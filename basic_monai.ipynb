{
 "cells": [
  {
   "cell_type": "markdown",
   "id": "cd078d96",
   "metadata": {},
   "source": [
    "CREATING A GROUP OF 64 SLICES "
   ]
  },
  {
   "cell_type": "code",
   "execution_count": 1,
   "id": "71d34132",
   "metadata": {},
   "outputs": [],
   "source": [
    "in_path = \"D:/UpGrad_Notes/ljmu immersion/Research/interim report/Coding/nifti/dicom/PETCT_0011f3deaf/03-23-2003-NA-PET-CT Ganzkoerper  primaer mit KM-10445/SEG\"\n",
    "out_path=\"D:/UpGrad_Notes/ljmu immersion/Research/interim report/Coding/nifti/dicom/PETCT_0011f3deaf/03-23-2003-NA-PET-CT Ganzkoerper  primaer mit KM-10445/dicomgroups\""
   ]
  },
  {
   "cell_type": "code",
   "execution_count": 2,
   "id": "2834a3ab",
   "metadata": {},
   "outputs": [
    {
     "name": "stdout",
     "output_type": "stream",
     "text": [
      "Requirement already satisfied: glob2 in c:\\users\\jagdi\\anaconda3\\envs\\pytorchenv\\lib\\site-packages (0.7)\n"
     ]
    }
   ],
   "source": [
    "!pip install glob2"
   ]
  },
  {
   "cell_type": "code",
   "execution_count": 3,
   "id": "969fd4e5",
   "metadata": {},
   "outputs": [
    {
     "name": "stdout",
     "output_type": "stream",
     "text": [
      "Collecting pytest-shutil\n",
      "  Downloading pytest_shutil-1.7.0-py2.py3-none-any.whl (15 kB)\n",
      "Collecting path.py\n",
      "  Downloading path.py-12.5.0-py3-none-any.whl (2.3 kB)\n",
      "Collecting pytest\n",
      "  Downloading pytest-7.3.2-py3-none-any.whl (320 kB)\n",
      "Collecting execnet\n",
      "  Downloading execnet-1.9.0-py2.py3-none-any.whl (39 kB)\n",
      "Collecting mock\n",
      "  Downloading mock-5.0.2-py3-none-any.whl (30 kB)\n",
      "Collecting termcolor\n",
      "  Downloading termcolor-2.3.0-py3-none-any.whl (6.9 kB)\n",
      "Collecting contextlib2\n",
      "  Downloading contextlib2-21.6.0-py2.py3-none-any.whl (13 kB)\n",
      "Requirement already satisfied: six in c:\\users\\jagdi\\anaconda3\\envs\\pytorchenv\\lib\\site-packages (from pytest-shutil) (1.16.0)\n",
      "Collecting path\n",
      "  Downloading path-16.6.0-py3-none-any.whl (26 kB)\n",
      "Requirement already satisfied: colorama in c:\\users\\jagdi\\anaconda3\\envs\\pytorchenv\\lib\\site-packages (from pytest->pytest-shutil) (0.4.4)\n",
      "Collecting exceptiongroup>=1.0.0rc8\n",
      "  Downloading exceptiongroup-1.1.1-py3-none-any.whl (14 kB)\n",
      "Requirement already satisfied: packaging in c:\\users\\jagdi\\anaconda3\\envs\\pytorchenv\\lib\\site-packages (from pytest->pytest-shutil) (21.0)\n",
      "Collecting pluggy<2.0,>=0.12\n",
      "  Downloading pluggy-1.0.0-py2.py3-none-any.whl (13 kB)\n",
      "Collecting tomli>=1.0.0\n",
      "  Downloading tomli-2.0.1-py3-none-any.whl (12 kB)\n",
      "Collecting iniconfig\n",
      "  Downloading iniconfig-2.0.0-py3-none-any.whl (5.9 kB)\n",
      "Requirement already satisfied: pyparsing>=2.0.2 in c:\\users\\jagdi\\anaconda3\\envs\\pytorchenv\\lib\\site-packages (from packaging->pytest->pytest-shutil) (2.4.7)\n",
      "Installing collected packages: tomli, pluggy, path, iniconfig, exceptiongroup, termcolor, pytest, path.py, mock, execnet, contextlib2, pytest-shutil\n",
      "Successfully installed contextlib2-21.6.0 exceptiongroup-1.1.1 execnet-1.9.0 iniconfig-2.0.0 mock-5.0.2 path-16.6.0 path.py-12.5.0 pluggy-1.0.0 pytest-7.3.2 pytest-shutil-1.7.0 termcolor-2.3.0 tomli-2.0.1\n"
     ]
    }
   ],
   "source": [
    "!pip install pytest-shutil"
   ]
  },
  {
   "cell_type": "code",
   "execution_count": 3,
   "id": "e4022e26",
   "metadata": {},
   "outputs": [],
   "source": [
    "from glob import glob\n",
    "import shutil\n",
    "import os"
   ]
  },
  {
   "cell_type": "code",
   "execution_count": 5,
   "id": "4a1fbab1",
   "metadata": {},
   "outputs": [
    {
     "ename": "SyntaxError",
     "evalue": "invalid syntax (Temp/ipykernel_5220/575818051.py, line 1)",
     "output_type": "error",
     "traceback": [
      "\u001b[1;36m  File \u001b[1;32m\"C:\\Users\\jagdi\\AppData\\Local\\Temp/ipykernel_5220/575818051.py\"\u001b[1;36m, line \u001b[1;32m1\u001b[0m\n\u001b[1;33m    for patient glob(in_path+'/*'):\u001b[0m\n\u001b[1;37m                ^\u001b[0m\n\u001b[1;31mSyntaxError\u001b[0m\u001b[1;31m:\u001b[0m invalid syntax\n"
     ]
    }
   ],
   "source": [
    "for patient glob(in_path+'/*'):\n",
    "    "
   ]
  },
  {
   "cell_type": "code",
   "execution_count": 7,
   "id": "6b406744",
   "metadata": {},
   "outputs": [
    {
     "name": "stdout",
     "output_type": "stream",
     "text": [
      "Collecting monai\n",
      "  Downloading monai-1.2.0-202306081546-py3-none-any.whl (1.3 MB)\n",
      "Requirement already satisfied: torch>=1.9 in c:\\users\\jagdi\\anaconda3\\envs\\pytorchenv\\lib\\site-packages (from monai) (1.9.1)\n",
      "Requirement already satisfied: numpy>=1.20 in c:\\users\\jagdi\\anaconda3\\envs\\pytorchenv\\lib\\site-packages (from monai) (1.21.2)\n",
      "Requirement already satisfied: typing-extensions in c:\\users\\jagdi\\anaconda3\\envs\\pytorchenv\\lib\\site-packages (from torch>=1.9->monai) (3.10.0.2)\n",
      "Installing collected packages: monai\n",
      "Successfully installed monai-1.2.0\n"
     ]
    }
   ],
   "source": [
    "!pip install monai"
   ]
  },
  {
   "cell_type": "code",
   "execution_count": 4,
   "id": "07d05414",
   "metadata": {},
   "outputs": [],
   "source": [
    "import monai"
   ]
  },
  {
   "cell_type": "code",
   "execution_count": 5,
   "id": "e930e90d",
   "metadata": {},
   "outputs": [],
   "source": [
    "import os\n",
    "from glob import glob\n",
    "\n",
    "import torch\n",
    "from monai.transforms import (\n",
    "    Compose,\n",
    "    LoadImaged,\n",
    "    ToTensord,\n",
    "    AddChanneld,\n",
    "    Spacingd,\n",
    "    ScaleIntensityRanged,\n",
    "    CropForegroundd,\n",
    "    Resized,\n",
    "\n",
    ")\n",
    "\n",
    "from monai.data import Dataset, DataLoader\n",
    "from monai.utils import first\n",
    "import matplotlib.pyplot as plt"
   ]
  },
  {
   "cell_type": "code",
   "execution_count": 6,
   "id": "39fe5f02",
   "metadata": {},
   "outputs": [],
   "source": [
    "data_dir = 'D:/UpGrad_Notes/ljmu immersion/Research/interim report/Coding/nifti/monai'"
   ]
  },
  {
   "cell_type": "code",
   "execution_count": 7,
   "id": "06c44b9e",
   "metadata": {},
   "outputs": [],
   "source": [
    "train_images = sorted(glob(os.path.join(data_dir, 'TrainData', '*.nii.gz')))\n",
    "train_labels = sorted(glob(os.path.join(data_dir, 'TrainLabels', '*.nii.gz')))\n",
    "\n",
    "val_images = sorted(glob(os.path.join(data_dir, 'ValData', '*.nii.gz')))\n",
    "val_labels = sorted(glob(os.path.join(data_dir, 'ValLabels', '*.nii.gz')))\n",
    "\n",
    "train_files = [{\"image\": image_name, 'label': label_name} for image_name, label_name in zip(train_images, train_labels)]\n",
    "val_files = [{\"image\": image_name, 'label': label_name} for image_name, label_name in zip(val_images, val_labels)]"
   ]
  },
  {
   "cell_type": "code",
   "execution_count": 8,
   "id": "d99fe3b5",
   "metadata": {},
   "outputs": [
    {
     "data": {
      "text/plain": [
       "[{'image': 'D:/UpGrad_Notes/ljmu immersion/Research/interim report/Coding/nifti/monai\\\\TrainData\\\\PETCT_0011f3deaf_CTres.nii.gz',\n",
       "  'label': 'D:/UpGrad_Notes/ljmu immersion/Research/interim report/Coding/nifti/monai\\\\TrainLabels\\\\PETCT_0011f3deaf_SEG.nii.gz'},\n",
       " {'image': 'D:/UpGrad_Notes/ljmu immersion/Research/interim report/Coding/nifti/monai\\\\TrainData\\\\PETCT_01140d52d8_CTres.nii.gz',\n",
       "  'label': 'D:/UpGrad_Notes/ljmu immersion/Research/interim report/Coding/nifti/monai\\\\TrainLabels\\\\PETCT_01140d52d8_SEG.nii.gz'},\n",
       " {'image': 'D:/UpGrad_Notes/ljmu immersion/Research/interim report/Coding/nifti/monai\\\\TrainData\\\\PETCT_0af7ffe12a_CTres.nii.gz',\n",
       "  'label': 'D:/UpGrad_Notes/ljmu immersion/Research/interim report/Coding/nifti/monai\\\\TrainLabels\\\\PETCT_0af7ffe12a_SEG.nii.gz'}]"
      ]
     },
     "execution_count": 8,
     "metadata": {},
     "output_type": "execute_result"
    }
   ],
   "source": [
    "train_files"
   ]
  },
  {
   "cell_type": "code",
   "execution_count": 9,
   "id": "258b17cd",
   "metadata": {},
   "outputs": [
    {
     "data": {
      "text/plain": [
       "[{'image': 'D:/UpGrad_Notes/ljmu immersion/Research/interim report/Coding/nifti/monai\\\\ValData\\\\PETCT_0117d7f11f_CTres.nii.gz',\n",
       "  'label': 'D:/UpGrad_Notes/ljmu immersion/Research/interim report/Coding/nifti/monai\\\\ValLabels\\\\PETCT_0117d7f11f_SEG.nii.gz'},\n",
       " {'image': 'D:/UpGrad_Notes/ljmu immersion/Research/interim report/Coding/nifti/monai\\\\ValData\\\\PETCT_0143bab87a_CTres.nii.gz',\n",
       "  'label': 'D:/UpGrad_Notes/ljmu immersion/Research/interim report/Coding/nifti/monai\\\\ValLabels\\\\PETCT_0143bab87a_SEG.nii.gz'}]"
      ]
     },
     "execution_count": 9,
     "metadata": {},
     "output_type": "execute_result"
    }
   ],
   "source": [
    "val_files"
   ]
  },
  {
   "cell_type": "code",
   "execution_count": 10,
   "id": "a665513b",
   "metadata": {},
   "outputs": [
    {
     "name": "stderr",
     "output_type": "stream",
     "text": [
      "C:\\Users\\jagdi\\anaconda3\\envs\\pytorchenv\\lib\\site-packages\\monai\\utils\\deprecate_utils.py:321: FutureWarning: monai.transforms.io.dictionary LoadImaged.__init__:image_only: Current default value of argument `image_only=False` has been deprecated since version 1.1. It will be changed to `image_only=True` in version 1.3.\n",
      "  warn_deprecated(argname, msg, warning_category)\n",
      "C:\\Users\\jagdi\\anaconda3\\envs\\pytorchenv\\lib\\site-packages\\monai\\utils\\deprecate_utils.py:111: FutureWarning: <class 'monai.transforms.utility.dictionary.AddChanneld'>: Class `AddChanneld` has been deprecated since version 0.8. It will be removed in version 1.3. please use MetaTensor data type and monai.transforms.EnsureChannelFirstd instead with `channel_dim='no_channel'`.\n",
      "  warn_deprecated(obj, msg, warning_category)\n",
      "C:\\Users\\jagdi\\anaconda3\\envs\\pytorchenv\\lib\\site-packages\\monai\\utils\\deprecate_utils.py:221: FutureWarning: monai.transforms.utility.dictionary EnsureChannelFirstd.__init__:meta_keys: Argument `meta_keys` has been deprecated since version 0.9. not needed if image is type `MetaTensor`.\n",
      "  warn_deprecated(argname, msg, warning_category)\n"
     ]
    }
   ],
   "source": [
    "orig_transforms = Compose(\n",
    "\n",
    "    [\n",
    "        LoadImaged(keys=['image', 'label']),\n",
    "        AddChanneld(keys=['image', 'label']),\n",
    "        \n",
    "        ToTensord(keys=['image', 'label'])\n",
    "    ]\n",
    ")\n"
   ]
  },
  {
   "cell_type": "code",
   "execution_count": null,
   "id": "24356127",
   "metadata": {},
   "outputs": [],
   "source": []
  },
  {
   "cell_type": "code",
   "execution_count": null,
   "id": "c61c3427",
   "metadata": {},
   "outputs": [],
   "source": []
  },
  {
   "cell_type": "code",
   "execution_count": null,
   "id": "44236046",
   "metadata": {},
   "outputs": [],
   "source": []
  },
  {
   "cell_type": "code",
   "execution_count": null,
   "id": "1c271bbd",
   "metadata": {},
   "outputs": [],
   "source": []
  },
  {
   "cell_type": "code",
   "execution_count": 11,
   "id": "2b8ab8ce",
   "metadata": {},
   "outputs": [],
   "source": [
    "orig_transforms = Compose(\n",
    "\n",
    "    [\n",
    "        LoadImaged(keys=['image', 'label']),\n",
    "        AddChanneld(keys=['image', 'label']),\n",
    "        \n",
    "        ToTensord(keys=['image', 'label'])\n",
    "    ]\n",
    ")\n",
    "\n",
    "train_transforms = Compose(\n",
    "\n",
    "    [\n",
    "        LoadImaged(keys=['image', 'label']),\n",
    "        AddChanneld(keys=['image', 'label']),\n",
    "        Spacingd(keys=['image', 'label'], pixdim=(1.5, 1.5, 2)),\n",
    "        ScaleIntensityRanged(keys='image', a_min=-200, a_max=200, b_min=0.0, b_max=1.0, clip=True),\n",
    "        CropForegroundd(keys=['image', 'label'], source_key='image'),\n",
    "        Resized(keys=['image', 'label'], spatial_size=[128,128,128]),\n",
    "        ToTensord(keys=['image', 'label'])\n",
    "    ]\n",
    ")\n",
    "\n",
    "\n",
    "val_transforms = Compose(\n",
    "\n",
    "    [\n",
    "        LoadImaged(keys=['image', 'label']),\n",
    "        AddChanneld(keys=['image', 'label']),\n",
    "        Spacingd(keys=['image', 'label'], pixdim=(1.5, 1.5, 2)),\n",
    "        ScaleIntensityRanged(keys='image', a_min=-200, a_max=200, b_min=0.0, b_max=1.0, clip=True),\n",
    "        ToTensord(keys=['image', 'label'])\n",
    "    ]\n",
    ")"
   ]
  },
  {
   "cell_type": "code",
   "execution_count": 12,
   "id": "b6df0f30",
   "metadata": {},
   "outputs": [],
   "source": [
    "orig_ds = Dataset(data=train_files, transform=orig_transforms)\n",
    "orig_loader = DataLoader(orig_ds, batch_size=1)\n",
    "\n",
    "train_ds = Dataset(data=train_files, transform=train_transforms)\n",
    "train_loader = DataLoader(train_ds, batch_size=1)\n",
    "\n",
    "val_ds = Dataset(data=val_files, transform=val_transforms)\n",
    "val_loader = DataLoader(val_ds, batch_size=1)"
   ]
  },
  {
   "cell_type": "code",
   "execution_count": null,
   "id": "05754126",
   "metadata": {},
   "outputs": [],
   "source": [
    "test_patient = first(train_loader)\n",
    "orig_patient = first(orig_loader)"
   ]
  },
  {
   "cell_type": "code",
   "execution_count": null,
   "id": "de0f6814",
   "metadata": {},
   "outputs": [],
   "source": []
  }
 ],
 "metadata": {
  "kernelspec": {
   "display_name": "Python 3 (ipykernel)",
   "language": "python",
   "name": "python3"
  },
  "language_info": {
   "codemirror_mode": {
    "name": "ipython",
    "version": 3
   },
   "file_extension": ".py",
   "mimetype": "text/x-python",
   "name": "python",
   "nbconvert_exporter": "python",
   "pygments_lexer": "ipython3",
   "version": "3.8.0"
  }
 },
 "nbformat": 4,
 "nbformat_minor": 5
}
