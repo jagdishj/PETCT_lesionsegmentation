{
 "cells": [
  {
   "cell_type": "code",
   "execution_count": 1,
   "id": "2f6b3c97",
   "metadata": {},
   "outputs": [],
   "source": [
    "data_dir = 'D:/UpGrad_Notes/ljmu immersion/Research/interim report/Coding/nifti/FDG-PET-CT-Lesions'"
   ]
  },
  {
   "cell_type": "code",
   "execution_count": 2,
   "id": "60dd665a",
   "metadata": {},
   "outputs": [],
   "source": [
    "import glob\n",
    "import os"
   ]
  },
  {
   "cell_type": "code",
   "execution_count": 3,
   "id": "45d2da03",
   "metadata": {},
   "outputs": [],
   "source": [
    "images_pt = sorted(glob.glob(os.path.join(data_dir, 'PETCT*', '*', \"SUV*\")))\n",
    "images_ct = sorted(glob.glob(os.path.join(data_dir, 'PETCT*', '*', \"CTres*\")))\n",
    "images_sg = sorted(glob.glob(os.path.join(data_dir, 'PETCT*', '*', \"SEG*\")))\n"
   ]
  },
  {
   "cell_type": "code",
   "execution_count": 4,
   "id": "9a37b165",
   "metadata": {},
   "outputs": [],
   "source": [
    "data_dicts = [\n",
    "            {\"image_pt\": image_name_pt, \"image_ct\": image_name_ct, \"image_sg\": image_name_sg}\n",
    "            for image_name_pt, image_name_ct, image_name_sg in zip(images_pt, images_ct, images_sg)\n",
    "        ]"
   ]
  },
  {
   "cell_type": "code",
   "execution_count": 5,
   "id": "ebf97a1c",
   "metadata": {},
   "outputs": [
    {
     "data": {
      "text/plain": [
       "{'image_pt': 'D:/UpGrad_Notes/ljmu immersion/Research/interim report/Coding/nifti/FDG-PET-CT-Lesions\\\\PETCT_0011f3deaf\\\\03-23-2003-NA-PET-CT Ganzkoerper  primaer mit KM-10445\\\\SUV.nii.gz',\n",
       " 'image_ct': 'D:/UpGrad_Notes/ljmu immersion/Research/interim report/Coding/nifti/FDG-PET-CT-Lesions\\\\PETCT_0011f3deaf\\\\03-23-2003-NA-PET-CT Ganzkoerper  primaer mit KM-10445\\\\CTres.nii.gz',\n",
       " 'image_sg': 'D:/UpGrad_Notes/ljmu immersion/Research/interim report/Coding/nifti/FDG-PET-CT-Lesions\\\\PETCT_0011f3deaf\\\\03-23-2003-NA-PET-CT Ganzkoerper  primaer mit KM-10445\\\\SEG.nii.gz'}"
      ]
     },
     "execution_count": 5,
     "metadata": {},
     "output_type": "execute_result"
    }
   ],
   "source": [
    "data_dicts[0]"
   ]
  },
  {
   "cell_type": "code",
   "execution_count": 6,
   "id": "b6fb46b7",
   "metadata": {},
   "outputs": [
    {
     "data": {
      "text/plain": [
       "[{'image_pt': 'D:/UpGrad_Notes/ljmu immersion/Research/interim report/Coding/nifti/FDG-PET-CT-Lesions\\\\PETCT_0011f3deaf\\\\03-23-2003-NA-PET-CT Ganzkoerper  primaer mit KM-10445\\\\SUV.nii.gz',\n",
       "  'image_ct': 'D:/UpGrad_Notes/ljmu immersion/Research/interim report/Coding/nifti/FDG-PET-CT-Lesions\\\\PETCT_0011f3deaf\\\\03-23-2003-NA-PET-CT Ganzkoerper  primaer mit KM-10445\\\\CTres.nii.gz',\n",
       "  'image_sg': 'D:/UpGrad_Notes/ljmu immersion/Research/interim report/Coding/nifti/FDG-PET-CT-Lesions\\\\PETCT_0011f3deaf\\\\03-23-2003-NA-PET-CT Ganzkoerper  primaer mit KM-10445\\\\SEG.nii.gz'},\n",
       " {'image_pt': 'D:/UpGrad_Notes/ljmu immersion/Research/interim report/Coding/nifti/FDG-PET-CT-Lesions\\\\PETCT_01140d52d8\\\\08-13-2005-NA-PET-CT Ganzkoerper  primaer mit KM-56839\\\\SUV.nii.gz',\n",
       "  'image_ct': 'D:/UpGrad_Notes/ljmu immersion/Research/interim report/Coding/nifti/FDG-PET-CT-Lesions\\\\PETCT_01140d52d8\\\\08-13-2005-NA-PET-CT Ganzkoerper  primaer mit KM-56839\\\\CTres.nii.gz',\n",
       "  'image_sg': 'D:/UpGrad_Notes/ljmu immersion/Research/interim report/Coding/nifti/FDG-PET-CT-Lesions\\\\PETCT_01140d52d8\\\\08-13-2005-NA-PET-CT Ganzkoerper  primaer mit KM-56839\\\\SEG.nii.gz'}]"
      ]
     },
     "execution_count": 6,
     "metadata": {},
     "output_type": "execute_result"
    }
   ],
   "source": [
    "data_dicts[:2]"
   ]
  },
  {
   "cell_type": "code",
   "execution_count": 7,
   "id": "b590bda2",
   "metadata": {},
   "outputs": [],
   "source": [
    "train_files, val_files = data_dicts[:2], data_dicts[-2:]"
   ]
  },
  {
   "cell_type": "code",
   "execution_count": 8,
   "id": "ef63fe3a",
   "metadata": {},
   "outputs": [
    {
     "data": {
      "text/plain": [
       "[{'image_pt': 'D:/UpGrad_Notes/ljmu immersion/Research/interim report/Coding/nifti/FDG-PET-CT-Lesions\\\\PETCT_ff1451316e\\\\03-31-2003-NA-PET-CT Ganzkoerper  primaer mit KM-22165\\\\SUV.nii.gz',\n",
       "  'image_ct': 'D:/UpGrad_Notes/ljmu immersion/Research/interim report/Coding/nifti/FDG-PET-CT-Lesions\\\\PETCT_ff1451316e\\\\03-31-2003-NA-PET-CT Ganzkoerper  primaer mit KM-22165\\\\CTres.nii.gz',\n",
       "  'image_sg': 'D:/UpGrad_Notes/ljmu immersion/Research/interim report/Coding/nifti/FDG-PET-CT-Lesions\\\\PETCT_ff1451316e\\\\03-31-2003-NA-PET-CT Ganzkoerper  primaer mit KM-22165\\\\SEG.nii.gz'},\n",
       " {'image_pt': 'D:/UpGrad_Notes/ljmu immersion/Research/interim report/Coding/nifti/FDG-PET-CT-Lesions\\\\PETCT_ff39795341\\\\09-22-2005-NA-PET-CT Ganzkoerper  primaer mit KM-98939\\\\SUV.nii.gz',\n",
       "  'image_ct': 'D:/UpGrad_Notes/ljmu immersion/Research/interim report/Coding/nifti/FDG-PET-CT-Lesions\\\\PETCT_ff39795341\\\\09-22-2005-NA-PET-CT Ganzkoerper  primaer mit KM-98939\\\\CTres.nii.gz',\n",
       "  'image_sg': 'D:/UpGrad_Notes/ljmu immersion/Research/interim report/Coding/nifti/FDG-PET-CT-Lesions\\\\PETCT_ff39795341\\\\09-22-2005-NA-PET-CT Ganzkoerper  primaer mit KM-98939\\\\SEG.nii.gz'}]"
      ]
     },
     "execution_count": 8,
     "metadata": {},
     "output_type": "execute_result"
    }
   ],
   "source": [
    "val_files"
   ]
  },
  {
   "cell_type": "code",
   "execution_count": 9,
   "id": "0fcf28c9",
   "metadata": {},
   "outputs": [],
   "source": [
    "from monai.utils import set_determinism\n",
    "from monai.data.utils import list_data_collate\n",
    "from monai.data import PersistentDataset,DataLoader"
   ]
  },
  {
   "cell_type": "code",
   "execution_count": 10,
   "id": "dee65107",
   "metadata": {
    "scrolled": true
   },
   "outputs": [],
   "source": [
    "\n",
    "# set deterministic training for reproducibility\n",
    "set_determinism(seed=0)\n"
   ]
  },
  {
   "cell_type": "code",
   "execution_count": 11,
   "id": "42a21c15",
   "metadata": {},
   "outputs": [],
   "source": [
    "import torch\n",
    "\n",
    "from monai.transforms import (\n",
    "    Compose,\n",
    "    LoadImaged,\n",
    "    ScaleIntensityRanged,\n",
    "    ConcatItemsd,\n",
    "    EnsureChannelFirstd,\n",
    "    ToTensord,\n",
    "    CropForegroundd,\n",
    "    RandCropByPosNegLabeld    \n",
    ")\n"
   ]
  },
  {
   "cell_type": "code",
   "execution_count": 12,
   "id": "5e850f61",
   "metadata": {},
   "outputs": [
    {
     "name": "stderr",
     "output_type": "stream",
     "text": [
      "C:\\Users\\jagdi\\anaconda3\\envs\\pytorchenv\\lib\\site-packages\\monai\\utils\\deprecate_utils.py:321: FutureWarning: monai.transforms.io.dictionary LoadImaged.__init__:image_only: Current default value of argument `image_only=False` has been deprecated since version 1.1. It will be changed to `image_only=True` in version 1.3.\n",
      "  warn_deprecated(argname, msg, warning_category)\n"
     ]
    }
   ],
   "source": [
    "        # define the data transforms\n",
    "        train_transforms = Compose(\n",
    "            [\n",
    "                LoadImaged(keys=[\"image_pt\", \"image_ct\", \"image_sg\"]),\n",
    "                ScaleIntensityRanged(\n",
    "                    keys=[\"image_ct\"], a_min=-100, a_max=250,\n",
    "                    b_min=0.0, b_max=1.0, clip=False,\n",
    "                ),\n",
    "                ScaleIntensityRanged(\n",
    "                    keys=[\"image_pt\"], a_min=0, a_max=15,\n",
    "                    b_min=0.0, b_max=1.0, clip=False,\n",
    "                ),\n",
    "                ConcatItemsd(keys=[\"image_pt\", \"image_ct\"], name=\"image_petct\", dim=0),\n",
    "\n",
    "                # AddChanneld(keys=[\"image_pt\", \"image_ct\", \"image_sg\"]),\n",
    "                # concatenate pet and ct channels\n",
    "                EnsureChannelFirstd(keys=[\"image_petct\", \"image_sg\"]),\n",
    "                # Orientationd(keys=[\"image_petct\", \"image_sg\"], axcodes=\"LAS\"),\n",
    "                # Spacingd(\n",
    "                #     keys=[\"image_pt\", \"image_ct\", \"image_sg\"],\n",
    "                #     pixdim=(2, 2, 3),\n",
    "                #     mode=(\"bilinear\", \"bilinear\", \"nearest\"),\n",
    "                # ),\n",
    "\n",
    "                # user can also add other random transforms\n",
    "                ToTensord(keys=[\"image_petct\"]),\n",
    "\n",
    "                # RandAffined(\n",
    "                #     keys=[\"image_petct\", \"image_sg\"],\n",
    "                #     mode=(\"bilinear\", \"nearest\"),\n",
    "                #     prob=1.0,\n",
    "                #     spatial_size=(64, 64, 64),\n",
    "                #     rotate_range=(0, 0, np.pi / 15),\n",
    "                #     scale_range=(0.1, 0.1, 0.1)),\n",
    "                CropForegroundd(keys=[\"image_petct\", \"image_sg\"], source_key=\"image_petct\"),\n",
    "                # randomly crop out patch samples from\n",
    "                # big image based on pos / neg ratio\n",
    "                # the image centers of negative samples\n",
    "                # must be in valid image area\n",
    "                RandCropByPosNegLabeld(\n",
    "                    keys=[\"image_petct\", \"image_sg\"],\n",
    "                    label_key=\"image_sg\",\n",
    "                    spatial_size=(5, 5, 5),\n",
    "                    pos=1,\n",
    "                    neg=1,\n",
    "                    num_samples=4,\n",
    "                    image_key=\"image_petct\",\n",
    "                    image_threshold=0,\n",
    "                ),\n",
    "\n",
    "            ]\n",
    "        )\n"
   ]
  },
  {
   "cell_type": "code",
   "execution_count": 13,
   "id": "690b0b10",
   "metadata": {},
   "outputs": [],
   "source": [
    "val_transforms = Compose(\n",
    "            [\n",
    "                LoadImaged(keys=[\"image_pt\", \"image_ct\", \"image_sg\"]),\n",
    "                # AddChanneld(keys=[\"image_pt\", \"image_ct\", \"image_sg\"]),\n",
    "                ScaleIntensityRanged(\n",
    "                    keys=[\"image_ct\"], a_min=-100, a_max=250,\n",
    "                    b_min=0.0, b_max=1.0, clip=False,\n",
    "                ),\n",
    "                ScaleIntensityRanged(\n",
    "                    keys=[\"image_pt\"], a_min=0, a_max=15,\n",
    "                    b_min=0.0, b_max=1.0, clip=False,\n",
    "                ),\n",
    "                ConcatItemsd(keys=[\"image_pt\", \"image_ct\"], name=\"image_petct\", dim=0),\n",
    "                # concatenate pet and ct channels\n",
    "                EnsureChannelFirstd(keys=[\"image_petct\", \"image_sg\"]),\n",
    "\n",
    "                # Spacingd(\n",
    "                #  keys=[\"image_pt\", \"image_ct\", \"image_sg\"],\n",
    "                # pixdim=(2, 2, 3),\n",
    "                # mode=(\"bilinear\", \"bilinear\", \"nearest\"),\n",
    "                # ),\n",
    "                # Orientationd(keys=[\"image_pt\", \"image_ct\", \"image_sg\"], axcodes=\"LAS\"),\n",
    "\n",
    "\n",
    "                CropForegroundd(keys=[\"image_petct\", \"image_sg\"], source_key=\"image_petct\"),\n",
    "\n",
    "                ToTensord(keys=[\"image_petct\"]),\n",
    "            ]\n",
    "        )"
   ]
  },
  {
   "cell_type": "code",
   "execution_count": 14,
   "id": "8bc5289f",
   "metadata": {},
   "outputs": [],
   "source": [
    "train_ds = PersistentDataset(\n",
    "            data=train_files[:10], transform=train_transforms, cache_dir='cache_dir'\n",
    "        )"
   ]
  },
  {
   "cell_type": "code",
   "execution_count": 15,
   "id": "aebbffa2",
   "metadata": {},
   "outputs": [],
   "source": [
    "train_loader = DataLoader(\n",
    "            train_ds, batch_size=1, shuffle=True,\n",
    "            num_workers=6, collate_fn=list_data_collate,\n",
    "        )\n"
   ]
  },
  {
   "cell_type": "code",
   "execution_count": null,
   "id": "be99a0bc",
   "metadata": {},
   "outputs": [],
   "source": []
  }
 ],
 "metadata": {
  "kernelspec": {
   "display_name": "Python 3 (ipykernel)",
   "language": "python",
   "name": "python3"
  },
  "language_info": {
   "codemirror_mode": {
    "name": "ipython",
    "version": 3
   },
   "file_extension": ".py",
   "mimetype": "text/x-python",
   "name": "python",
   "nbconvert_exporter": "python",
   "pygments_lexer": "ipython3",
   "version": "3.8.0"
  }
 },
 "nbformat": 4,
 "nbformat_minor": 5
}
